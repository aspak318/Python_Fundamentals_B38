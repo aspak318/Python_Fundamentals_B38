{
 "cells": [
  {
   "cell_type": "code",
   "execution_count": null,
   "id": "following-daniel",
   "metadata": {},
   "outputs": [],
   "source": [
    "#Organizing the data with List"
   ]
  },
  {
   "cell_type": "code",
   "execution_count": null,
   "id": "hundred-rider",
   "metadata": {},
   "outputs": [],
   "source": [
    "Ex:"
   ]
  },
  {
   "cell_type": "code",
   "execution_count": 1,
   "id": "aboriginal-storage",
   "metadata": {},
   "outputs": [],
   "source": [
    "cars = ['maruthi','benz','audi','bmw','volvo','toyato','kis']"
   ]
  },
  {
   "cell_type": "code",
   "execution_count": 2,
   "id": "legendary-suggestion",
   "metadata": {},
   "outputs": [
    {
     "name": "stdout",
     "output_type": "stream",
     "text": [
      "['maruthi', 'benz', 'audi', 'bmw', 'volvo', 'toyato', 'kis']\n"
     ]
    }
   ],
   "source": [
    "print(cars) #display cars variable"
   ]
  },
  {
   "cell_type": "code",
   "execution_count": 3,
   "id": "altered-grant",
   "metadata": {},
   "outputs": [
    {
     "data": {
      "text/plain": [
       "list"
      ]
     },
     "execution_count": 3,
     "metadata": {},
     "output_type": "execute_result"
    }
   ],
   "source": [
    "type(cars) #display cars vaiable type"
   ]
  },
  {
   "cell_type": "code",
   "execution_count": null,
   "id": "impaired-variation",
   "metadata": {},
   "outputs": [],
   "source": []
  },
  {
   "cell_type": "code",
   "execution_count": null,
   "id": "other-sussex",
   "metadata": {},
   "outputs": [],
   "source": [
    "#Organize the list data in alphabetical order A - Z\n",
    "    1. Temp approach -> Original order will remain as same -> Method to be used is sorted\n",
    "    2. Permanent approach -> Original order will be changed -> Method used is sort"
   ]
  },
  {
   "cell_type": "code",
   "execution_count": null,
   "id": "taken-disabled",
   "metadata": {},
   "outputs": [],
   "source": [
    "#1. Temp approach, using the sorted method"
   ]
  },
  {
   "cell_type": "code",
   "execution_count": null,
   "id": "breathing-avenue",
   "metadata": {},
   "outputs": [],
   "source": [
    "Ex:"
   ]
  },
  {
   "cell_type": "code",
   "execution_count": 4,
   "id": "quality-liquid",
   "metadata": {},
   "outputs": [
    {
     "name": "stdout",
     "output_type": "stream",
     "text": [
      "['audi', 'benz', 'bmw', 'kis', 'maruthi', 'toyato', 'volvo']\n"
     ]
    }
   ],
   "source": [
    "print(sorted(cars))"
   ]
  },
  {
   "cell_type": "code",
   "execution_count": 5,
   "id": "operating-conjunction",
   "metadata": {},
   "outputs": [
    {
     "name": "stdout",
     "output_type": "stream",
     "text": [
      "['maruthi', 'benz', 'audi', 'bmw', 'volvo', 'toyato', 'kis']\n"
     ]
    }
   ],
   "source": [
    "print(cars) # Original order is same as is"
   ]
  },
  {
   "cell_type": "code",
   "execution_count": null,
   "id": "major-impression",
   "metadata": {},
   "outputs": [],
   "source": []
  },
  {
   "cell_type": "code",
   "execution_count": null,
   "id": "printable-wisdom",
   "metadata": {},
   "outputs": [],
   "source": [
    "#. Permanent approach, using sort method"
   ]
  },
  {
   "cell_type": "code",
   "execution_count": null,
   "id": "similar-election",
   "metadata": {},
   "outputs": [],
   "source": [
    "Ex:"
   ]
  },
  {
   "cell_type": "code",
   "execution_count": 6,
   "id": "professional-celtic",
   "metadata": {},
   "outputs": [
    {
     "name": "stdout",
     "output_type": "stream",
     "text": [
      "['audi', 'benz', 'bmw', 'kis', 'maruthi', 'toyato', 'volvo']\n"
     ]
    }
   ],
   "source": [
    "cars.sort() # permanent sort\n",
    "print(cars) "
   ]
  },
  {
   "cell_type": "code",
   "execution_count": 7,
   "id": "japanese-circus",
   "metadata": {},
   "outputs": [
    {
     "name": "stdout",
     "output_type": "stream",
     "text": [
      "['audi', 'benz', 'bmw', 'kis', 'maruthi', 'toyato', 'volvo']\n"
     ]
    }
   ],
   "source": [
    "print(cars) "
   ]
  },
  {
   "cell_type": "code",
   "execution_count": null,
   "id": "palestinian-kazakhstan",
   "metadata": {},
   "outputs": [],
   "source": []
  },
  {
   "cell_type": "code",
   "execution_count": null,
   "id": "departmental-program",
   "metadata": {},
   "outputs": [],
   "source": [
    "#Interview question: Difference b/W sorted and sort method in list datatype"
   ]
  },
  {
   "cell_type": "code",
   "execution_count": null,
   "id": "proprietary-bathroom",
   "metadata": {},
   "outputs": [],
   "source": []
  },
  {
   "cell_type": "code",
   "execution_count": null,
   "id": "consolidated-measure",
   "metadata": {},
   "outputs": [],
   "source": [
    "#to know the count of the list"
   ]
  },
  {
   "cell_type": "code",
   "execution_count": null,
   "id": "impressive-relative",
   "metadata": {},
   "outputs": [],
   "source": [
    "Ex:"
   ]
  },
  {
   "cell_type": "code",
   "execution_count": 8,
   "id": "indoor-married",
   "metadata": {},
   "outputs": [
    {
     "data": {
      "text/plain": [
       "7"
      ]
     },
     "execution_count": 8,
     "metadata": {},
     "output_type": "execute_result"
    }
   ],
   "source": [
    "len(cars)"
   ]
  },
  {
   "cell_type": "code",
   "execution_count": null,
   "id": "greatest-humidity",
   "metadata": {},
   "outputs": [],
   "source": []
  },
  {
   "cell_type": "code",
   "execution_count": null,
   "id": "elder-rubber",
   "metadata": {},
   "outputs": [],
   "source": [
    "#print the list in reverse order"
   ]
  },
  {
   "cell_type": "code",
   "execution_count": null,
   "id": "eleven-agriculture",
   "metadata": {},
   "outputs": [],
   "source": [
    "Ex:"
   ]
  },
  {
   "cell_type": "code",
   "execution_count": 9,
   "id": "varied-whole",
   "metadata": {},
   "outputs": [
    {
     "name": "stdout",
     "output_type": "stream",
     "text": [
      "['audi', 'benz', 'bmw', 'kis', 'maruthi', 'toyato', 'volvo']\n"
     ]
    }
   ],
   "source": [
    "print(cars) "
   ]
  },
  {
   "cell_type": "code",
   "execution_count": 10,
   "id": "patient-membrane",
   "metadata": {},
   "outputs": [
    {
     "name": "stdout",
     "output_type": "stream",
     "text": [
      "['volvo', 'toyato', 'maruthi', 'kis', 'bmw', 'benz', 'audi']\n"
     ]
    }
   ],
   "source": [
    "cars.reverse() # permanently reverse, no temporary\n",
    "print(cars) "
   ]
  },
  {
   "cell_type": "code",
   "execution_count": null,
   "id": "irish-imperial",
   "metadata": {},
   "outputs": [],
   "source": []
  },
  {
   "cell_type": "code",
   "execution_count": null,
   "id": "blond-choir",
   "metadata": {},
   "outputs": [],
   "source": [
    "#Introduction to slicing of the list"
   ]
  },
  {
   "cell_type": "code",
   "execution_count": null,
   "id": "ranking-movement",
   "metadata": {},
   "outputs": [],
   "source": [
    "Ex:"
   ]
  },
  {
   "cell_type": "code",
   "execution_count": 12,
   "id": "square-african",
   "metadata": {},
   "outputs": [],
   "source": [
    "students = ['akshay','naveen','imran','yousuf','divya','keerthi']"
   ]
  },
  {
   "cell_type": "code",
   "execution_count": 13,
   "id": "official-residence",
   "metadata": {},
   "outputs": [
    {
     "name": "stdout",
     "output_type": "stream",
     "text": [
      "['akshay', 'naveen', 'imran', 'yousuf', 'divya', 'keerthi']\n"
     ]
    }
   ],
   "source": [
    "print(students)"
   ]
  },
  {
   "cell_type": "code",
   "execution_count": null,
   "id": "brilliant-south",
   "metadata": {},
   "outputs": [],
   "source": []
  },
  {
   "cell_type": "code",
   "execution_count": null,
   "id": "flexible-denial",
   "metadata": {},
   "outputs": [],
   "source": [
    "#general syntax of slicing\n",
    "print(list[startvalue:stopvalue:stepcount]\n",
    "#last value is always exclusive, to include the last value increment stopvalue by 1"
   ]
  },
  {
   "cell_type": "code",
   "execution_count": null,
   "id": "diverse-trauma",
   "metadata": {},
   "outputs": [],
   "source": [
    "Ex:"
   ]
  },
  {
   "cell_type": "code",
   "execution_count": 16,
   "id": "amber-native",
   "metadata": {},
   "outputs": [
    {
     "name": "stdout",
     "output_type": "stream",
     "text": [
      "['akshay']\n"
     ]
    }
   ],
   "source": [
    "print(students[0:1])"
   ]
  },
  {
   "cell_type": "code",
   "execution_count": 18,
   "id": "dutch-quantum",
   "metadata": {},
   "outputs": [
    {
     "name": "stdout",
     "output_type": "stream",
     "text": [
      "['akshay', 'naveen', 'imran']\n"
     ]
    }
   ],
   "source": [
    "print(students[0:3])"
   ]
  },
  {
   "cell_type": "code",
   "execution_count": 19,
   "id": "fitting-reform",
   "metadata": {},
   "outputs": [
    {
     "name": "stdout",
     "output_type": "stream",
     "text": [
      "['akshay', 'naveen']\n"
     ]
    }
   ],
   "source": [
    "print(students[0:2])"
   ]
  },
  {
   "cell_type": "code",
   "execution_count": 20,
   "id": "julian-concern",
   "metadata": {},
   "outputs": [
    {
     "name": "stdout",
     "output_type": "stream",
     "text": [
      "['imran', 'yousuf']\n"
     ]
    }
   ],
   "source": [
    "print(students[2:4])"
   ]
  },
  {
   "cell_type": "code",
   "execution_count": 21,
   "id": "corresponding-colleague",
   "metadata": {},
   "outputs": [
    {
     "name": "stdout",
     "output_type": "stream",
     "text": [
      "['divya', 'keerthi']\n"
     ]
    }
   ],
   "source": [
    "print(students[4:6])"
   ]
  },
  {
   "cell_type": "code",
   "execution_count": null,
   "id": "removed-detroit",
   "metadata": {},
   "outputs": [],
   "source": []
  },
  {
   "cell_type": "code",
   "execution_count": null,
   "id": "binary-faculty",
   "metadata": {},
   "outputs": [],
   "source": []
  },
  {
   "cell_type": "code",
   "execution_count": 27,
   "id": "moral-prince",
   "metadata": {},
   "outputs": [
    {
     "name": "stdout",
     "output_type": "stream",
     "text": [
      "['akshay', 'naveen', 'imran', 'yousuf', 'divya', 'keerthi']\n"
     ]
    }
   ],
   "source": [
    "print(students)"
   ]
  },
  {
   "cell_type": "code",
   "execution_count": 23,
   "id": "liquid-player",
   "metadata": {},
   "outputs": [
    {
     "name": "stdout",
     "output_type": "stream",
     "text": [
      "['akshay', 'imran', 'divya']\n"
     ]
    }
   ],
   "source": [
    "print(students[0:6:2])"
   ]
  },
  {
   "cell_type": "code",
   "execution_count": 24,
   "id": "balanced-landing",
   "metadata": {},
   "outputs": [
    {
     "name": "stdout",
     "output_type": "stream",
     "text": [
      "['akshay', 'naveen', 'imran', 'yousuf', 'divya', 'keerthi']\n"
     ]
    }
   ],
   "source": [
    "print(students[0:6:1])"
   ]
  },
  {
   "cell_type": "code",
   "execution_count": 25,
   "id": "impossible-mayor",
   "metadata": {},
   "outputs": [
    {
     "name": "stdout",
     "output_type": "stream",
     "text": [
      "['akshay', 'yousuf']\n"
     ]
    }
   ],
   "source": [
    "print(students[0:6:3])"
   ]
  },
  {
   "cell_type": "code",
   "execution_count": 26,
   "id": "involved-consortium",
   "metadata": {},
   "outputs": [
    {
     "name": "stdout",
     "output_type": "stream",
     "text": [
      "['akshay', 'divya']\n"
     ]
    }
   ],
   "source": [
    "print(students[0:6:4])"
   ]
  },
  {
   "cell_type": "code",
   "execution_count": 28,
   "id": "leading-lawrence",
   "metadata": {},
   "outputs": [
    {
     "name": "stdout",
     "output_type": "stream",
     "text": [
      "['akshay', 'keerthi']\n"
     ]
    }
   ],
   "source": [
    "print(students[0:6:5])"
   ]
  },
  {
   "cell_type": "code",
   "execution_count": null,
   "id": "typical-replication",
   "metadata": {},
   "outputs": [],
   "source": []
  }
 ],
 "metadata": {
  "kernelspec": {
   "display_name": "Python 3",
   "language": "python",
   "name": "python3"
  },
  "language_info": {
   "codemirror_mode": {
    "name": "ipython",
    "version": 3
   },
   "file_extension": ".py",
   "mimetype": "text/x-python",
   "name": "python",
   "nbconvert_exporter": "python",
   "pygments_lexer": "ipython3",
   "version": "3.7.8"
  }
 },
 "nbformat": 4,
 "nbformat_minor": 5
}
