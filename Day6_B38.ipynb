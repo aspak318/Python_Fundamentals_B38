{
 "cells": [
  {
   "cell_type": "code",
   "execution_count": 1,
   "id": "engaged-cambodia",
   "metadata": {},
   "outputs": [],
   "source": [
    "students = ['venila','yusuf','karthik','john','kumar','abhishek','latha','madhavi']"
   ]
  },
  {
   "cell_type": "code",
   "execution_count": 2,
   "id": "legal-application",
   "metadata": {},
   "outputs": [
    {
     "name": "stdout",
     "output_type": "stream",
     "text": [
      "['venila', 'yusuf', 'karthik', 'john', 'kumar', 'abhishek', 'latha', 'madhavi']\n"
     ]
    }
   ],
   "source": [
    "print(students)"
   ]
  },
  {
   "cell_type": "code",
   "execution_count": 3,
   "id": "thorough-lafayette",
   "metadata": {},
   "outputs": [
    {
     "data": {
      "text/plain": [
       "list"
      ]
     },
     "execution_count": 3,
     "metadata": {},
     "output_type": "execute_result"
    }
   ],
   "source": [
    "type(students)"
   ]
  },
  {
   "cell_type": "code",
   "execution_count": null,
   "id": "elect-contents",
   "metadata": {},
   "outputs": [],
   "source": []
  },
  {
   "cell_type": "code",
   "execution_count": null,
   "id": "former-blind",
   "metadata": {},
   "outputs": [],
   "source": [
    "# i want  to appreciate  all the students from the above list"
   ]
  },
  {
   "cell_type": "code",
   "execution_count": null,
   "id": "animal-bishop",
   "metadata": {},
   "outputs": [],
   "source": [
    "Ex:"
   ]
  },
  {
   "cell_type": "code",
   "execution_count": 4,
   "id": "distributed-registration",
   "metadata": {},
   "outputs": [
    {
     "name": "stdout",
     "output_type": "stream",
     "text": [
      "keep up the good work, Venila\n"
     ]
    }
   ],
   "source": [
    "print(f\"keep up the good work, {students[0].title()}\")"
   ]
  },
  {
   "cell_type": "code",
   "execution_count": 5,
   "id": "green-external",
   "metadata": {},
   "outputs": [
    {
     "name": "stdout",
     "output_type": "stream",
     "text": [
      "keep up the good work, Yusuf\n"
     ]
    }
   ],
   "source": [
    "print(f\"keep up the good work, {students[1].title()}\")"
   ]
  },
  {
   "cell_type": "code",
   "execution_count": 6,
   "id": "inside-partition",
   "metadata": {},
   "outputs": [
    {
     "name": "stdout",
     "output_type": "stream",
     "text": [
      "keep up the good work, Karthik\n"
     ]
    }
   ],
   "source": [
    "print(f\"keep up the good work, {students[2].title()}\")"
   ]
  },
  {
   "cell_type": "code",
   "execution_count": null,
   "id": "checked-competition",
   "metadata": {},
   "outputs": [],
   "source": []
  },
  {
   "cell_type": "code",
   "execution_count": null,
   "id": "mature-hierarchy",
   "metadata": {},
   "outputs": [],
   "source": [
    "#introduction to for loops"
   ]
  },
  {
   "cell_type": "code",
   "execution_count": null,
   "id": "north-saturday",
   "metadata": {},
   "outputs": [],
   "source": [
    "#general syntax of for loop\n",
    "for tempvar ib mainvar:\n",
    "    print(tempvar)"
   ]
  },
  {
   "cell_type": "code",
   "execution_count": null,
   "id": "surprised-photograph",
   "metadata": {},
   "outputs": [],
   "source": [
    "#tempvar -> it can be any name like x or y anything\n",
    "#mainvar -> in this students is the main variable\n",
    "#gap is called as indentation"
   ]
  },
  {
   "cell_type": "code",
   "execution_count": null,
   "id": "resident-queensland",
   "metadata": {},
   "outputs": [],
   "source": [
    "Ex:"
   ]
  },
  {
   "cell_type": "code",
   "execution_count": 8,
   "id": "cutting-defensive",
   "metadata": {},
   "outputs": [
    {
     "name": "stdout",
     "output_type": "stream",
     "text": [
      "keep up the good work, Venila\n",
      "keep up the good work, Yusuf\n",
      "keep up the good work, Karthik\n",
      "keep up the good work, John\n",
      "keep up the good work, Kumar\n",
      "keep up the good work, Abhishek\n",
      "keep up the good work, Latha\n",
      "keep up the good work, Madhavi\n"
     ]
    }
   ],
   "source": [
    "for x in students:\n",
    "    print(f\"keep up the good work, {x.title()}\")"
   ]
  },
  {
   "cell_type": "code",
   "execution_count": 10,
   "id": "democratic-profit",
   "metadata": {},
   "outputs": [
    {
     "name": "stdout",
     "output_type": "stream",
     "text": [
      "keep up the good work, Venila\n",
      "keep up the good work, Yusuf\n",
      "keep up the good work, Karthik\n",
      "keep up the good work, John\n",
      "keep up the good work, Kumar\n",
      "keep up the good work, Abhishek\n",
      "keep up the good work, Latha\n",
      "keep up the good work, Madhavi\n"
     ]
    }
   ],
   "source": [
    "for a in students:\n",
    "    print(f\"keep up the good work, {a.title()}\")"
   ]
  },
  {
   "cell_type": "code",
   "execution_count": null,
   "id": "figured-watershed",
   "metadata": {},
   "outputs": [],
   "source": []
  },
  {
   "cell_type": "code",
   "execution_count": null,
   "id": "restricted-terminal",
   "metadata": {},
   "outputs": [],
   "source": [
    "#enhancement of the above code--later"
   ]
  },
  {
   "cell_type": "code",
   "execution_count": null,
   "id": "industrial-flour",
   "metadata": {},
   "outputs": [],
   "source": [
    "Ex:"
   ]
  },
  {
   "cell_type": "code",
   "execution_count": 12,
   "id": "ecological-strike",
   "metadata": {},
   "outputs": [
    {
     "name": "stdout",
     "output_type": "stream",
     "text": [
      "keep up the good work, Venila\n",
      "will be looking forward to receive your practise file of today, Venila\n",
      "keep up the good work, Yusuf\n",
      "will be looking forward to receive your practise file of today, Yusuf\n",
      "keep up the good work, Karthik\n",
      "will be looking forward to receive your practise file of today, Karthik\n",
      "keep up the good work, John\n",
      "will be looking forward to receive your practise file of today, John\n",
      "keep up the good work, Kumar\n",
      "will be looking forward to receive your practise file of today, Kumar\n",
      "keep up the good work, Abhishek\n",
      "will be looking forward to receive your practise file of today, Abhishek\n",
      "keep up the good work, Latha\n",
      "will be looking forward to receive your practise file of today, Latha\n",
      "keep up the good work, Madhavi\n",
      "will be looking forward to receive your practise file of today, Madhavi\n"
     ]
    }
   ],
   "source": [
    "for x in students:\n",
    "\tprint(f\"keep up the good work, {x.title()}\")\n",
    "\tprint(f\"will be looking forward to receive your practise file of today, {x.title()}\")"
   ]
  },
  {
   "cell_type": "code",
   "execution_count": 14,
   "id": "functioning-photograph",
   "metadata": {},
   "outputs": [
    {
     "name": "stdout",
     "output_type": "stream",
     "text": [
      "keep up the good work, Venila\n",
      "will be looking forward to receive your practise file of today, Venila\n",
      "keep up the good work, Yusuf\n",
      "will be looking forward to receive your practise file of today, Yusuf\n",
      "keep up the good work, Karthik\n",
      "will be looking forward to receive your practise file of today, Karthik\n",
      "keep up the good work, John\n",
      "will be looking forward to receive your practise file of today, John\n",
      "keep up the good work, Kumar\n",
      "will be looking forward to receive your practise file of today, Kumar\n",
      "keep up the good work, Abhishek\n",
      "will be looking forward to receive your practise file of today, Abhishek\n",
      "keep up the good work, Latha\n",
      "will be looking forward to receive your practise file of today, Latha\n",
      "keep up the good work, Madhavi\n",
      "will be looking forward to receive your practise file of today, Madhavi\n"
     ]
    }
   ],
   "source": [
    "for x in students:\n",
    "    print(f\"keep up the good work, {x.title()}\")\n",
    "    print(f\"will be looking forward to receive your practise file of today, {x.title()}\")"
   ]
  },
  {
   "cell_type": "code",
   "execution_count": null,
   "id": "closing-italian",
   "metadata": {},
   "outputs": [],
   "source": []
  },
  {
   "cell_type": "code",
   "execution_count": null,
   "id": "fiscal-jacob",
   "metadata": {},
   "outputs": [],
   "source": [
    "# improvisition of the above code"
   ]
  },
  {
   "cell_type": "code",
   "execution_count": null,
   "id": "wireless-syndication",
   "metadata": {},
   "outputs": [],
   "source": [
    "# writing in the loop"
   ]
  },
  {
   "cell_type": "code",
   "execution_count": 16,
   "id": "balanced-decrease",
   "metadata": {},
   "outputs": [
    {
     "name": "stdout",
     "output_type": "stream",
     "text": [
      "keep up the good work, Venila\n",
      "will be looking forward to receive your practise file of today, Venila.\n",
      "\n",
      "keep up the good work, Yusuf\n",
      "will be looking forward to receive your practise file of today, Yusuf.\n",
      "\n",
      "keep up the good work, Karthik\n",
      "will be looking forward to receive your practise file of today, Karthik.\n",
      "\n",
      "keep up the good work, John\n",
      "will be looking forward to receive your practise file of today, John.\n",
      "\n",
      "keep up the good work, Kumar\n",
      "will be looking forward to receive your practise file of today, Kumar.\n",
      "\n",
      "keep up the good work, Abhishek\n",
      "will be looking forward to receive your practise file of today, Abhishek.\n",
      "\n",
      "keep up the good work, Latha\n",
      "will be looking forward to receive your practise file of today, Latha.\n",
      "\n",
      "keep up the good work, Madhavi\n",
      "will be looking forward to receive your practise file of today, Madhavi.\n",
      "\n"
     ]
    }
   ],
   "source": [
    "for x in students:\n",
    "    print(f\"keep up the good work, {x.title()}\")\n",
    "    print(f\"will be looking forward to receive your practise file of today, {x.title()}.\\n\")"
   ]
  },
  {
   "cell_type": "code",
   "execution_count": null,
   "id": "corrected-petite",
   "metadata": {},
   "outputs": [],
   "source": []
  },
  {
   "cell_type": "code",
   "execution_count": null,
   "id": "valid-vault",
   "metadata": {},
   "outputs": [],
   "source": [
    "# writing out of the loop"
   ]
  },
  {
   "cell_type": "code",
   "execution_count": 18,
   "id": "lightweight-prompt",
   "metadata": {},
   "outputs": [
    {
     "name": "stdout",
     "output_type": "stream",
     "text": [
      "keep up the good work, Venila\n",
      "will be looking forward to receive your practise file of today, Venila.\n",
      "\n",
      "keep up the good work, Yusuf\n",
      "will be looking forward to receive your practise file of today, Yusuf.\n",
      "\n",
      "keep up the good work, Karthik\n",
      "will be looking forward to receive your practise file of today, Karthik.\n",
      "\n",
      "keep up the good work, John\n",
      "will be looking forward to receive your practise file of today, John.\n",
      "\n",
      "keep up the good work, Kumar\n",
      "will be looking forward to receive your practise file of today, Kumar.\n",
      "\n",
      "keep up the good work, Abhishek\n",
      "will be looking forward to receive your practise file of today, Abhishek.\n",
      "\n",
      "keep up the good work, Latha\n",
      "will be looking forward to receive your practise file of today, Latha.\n",
      "\n",
      "keep up the good work, Madhavi\n",
      "will be looking forward to receive your practise file of today, Madhavi.\n",
      "\n",
      "Thank you all of you for showing interest in learning Python\n"
     ]
    }
   ],
   "source": [
    "for x in students:\n",
    "    print(f\"keep up the good work, {x.title()}\")\n",
    "    print(f\"will be looking forward to receive your practise file of today, {x.title()}.\\n\")\n",
    "    \n",
    "print(\"Thank you all of you for showing interest in learning Python\")"
   ]
  },
  {
   "cell_type": "code",
   "execution_count": null,
   "id": "modern-saturday",
   "metadata": {},
   "outputs": [],
   "source": []
  },
  {
   "cell_type": "code",
   "execution_count": null,
   "id": "copyrighted-baptist",
   "metadata": {},
   "outputs": [],
   "source": [
    "#error without indentation (space)\t-> indentationerror"
   ]
  },
  {
   "cell_type": "code",
   "execution_count": 19,
   "id": "global-velvet",
   "metadata": {},
   "outputs": [
    {
     "ename": "IndentationError",
     "evalue": "expected an indented block (<ipython-input-19-1ae956a9c65f>, line 2)",
     "output_type": "error",
     "traceback": [
      "\u001b[0;36m  File \u001b[0;32m\"<ipython-input-19-1ae956a9c65f>\"\u001b[0;36m, line \u001b[0;32m2\u001b[0m\n\u001b[0;31m    print(f\"keep up the good work, {x.title()}\")\u001b[0m\n\u001b[0m        ^\u001b[0m\n\u001b[0;31mIndentationError\u001b[0m\u001b[0;31m:\u001b[0m expected an indented block\n"
     ]
    }
   ],
   "source": [
    "for x in sudents:\n",
    "print(f\"keep up the good work, {x.title()}\")\n",
    "    print(f\"will be looking forward to receive your practise file of today, {x.title()}.\\n\")"
   ]
  },
  {
   "cell_type": "code",
   "execution_count": null,
   "id": "banner-circuit",
   "metadata": {},
   "outputs": [],
   "source": []
  },
  {
   "cell_type": "code",
   "execution_count": null,
   "id": "sorted-transformation",
   "metadata": {},
   "outputs": [],
   "source": [
    "#interview: do we have to give indentation in a for loop?"
   ]
  },
  {
   "cell_type": "code",
   "execution_count": null,
   "id": "perceived-improvement",
   "metadata": {},
   "outputs": [],
   "source": []
  },
  {
   "cell_type": "code",
   "execution_count": null,
   "id": "painful-israeli",
   "metadata": {},
   "outputs": [],
   "source": [
    "#introduction to conditional statements in python"
   ]
  },
  {
   "cell_type": "code",
   "execution_count": null,
   "id": "dedicated-brush",
   "metadata": {},
   "outputs": [],
   "source": [
    "#overview: the outcome of the program will be dependent on the certain condition that we are going to validate"
   ]
  },
  {
   "cell_type": "code",
   "execution_count": null,
   "id": "destroyed-gallery",
   "metadata": {},
   "outputs": [],
   "source": [
    "if else conditions"
   ]
  }
 ],
 "metadata": {
  "kernelspec": {
   "display_name": "Python 3",
   "language": "python",
   "name": "python3"
  },
  "language_info": {
   "codemirror_mode": {
    "name": "ipython",
    "version": 3
   },
   "file_extension": ".py",
   "mimetype": "text/x-python",
   "name": "python",
   "nbconvert_exporter": "python",
   "pygments_lexer": "ipython3",
   "version": "3.7.8"
  }
 },
 "nbformat": 4,
 "nbformat_minor": 5
}
